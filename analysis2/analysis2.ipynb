{
 "cells": [
  {
   "cell_type": "code",
   "execution_count": 1,
   "metadata": {},
   "outputs": [],
   "source": [
    "import pyspark\n",
    "from pyspark import SparkContext, SparkConf\n",
    "from pyspark.sql import SparkSession\n",
    "import os\n",
    "import time\n",
    "\n",
    "MASTER_URL = \"spark://172.24.0.71:7077\"\n",
    "# MASTER_URL = \"spark://10.4.0.20:7077\"\n",
    "\n",
    "os.environ['PYSPARK_PYTHON'] = '/usr/bin/python3'\n",
    "\n",
    "conf = (SparkConf()\n",
    "        .set(\"spark.eventLog.enabled\", \"true\")\n",
    "        .set(\"spark.driver.host\", \"172.24.0.71\")\n",
    "        .set(\"spark.history.fs.logDirectory\", \"/tmp/spark-events\")\n",
    "        .set(\"spark.app.name\", \"step2-datacollector-extraction\")\n",
    "        .set(\"spark.driver.memory\", \"6G\")\n",
    "        .set(\"spark.jars.packages\", \"org.mongodb.spark:mongo-spark-connector_2.11:2.4.0\") # mongo connector\n",
    "        .setMaster(MASTER_URL))"
   ]
  },
  {
   "cell_type": "markdown",
   "metadata": {},
   "source": [
    "# Analysis 2 - Classification\n",
    "\n",
    "## Raw-Spark solution"
   ]
  },
  {
   "cell_type": "code",
   "execution_count": 2,
   "metadata": {},
   "outputs": [],
   "source": [
    "sc = SparkContext(conf=conf)\n",
    "spark = SparkSession(sc)"
   ]
  },
  {
   "cell_type": "code",
   "execution_count": 5,
   "metadata": {},
   "outputs": [],
   "source": [
    "from pyspark.sql.functions import lead, col, hour, minute\n",
    "from pyspark.sql import Window\n",
    "from pyspark.sql.types import *\n",
    "\n",
    "capability = \"city_traffic\"\n",
    "default_uri = \"mongodb://172.24.0.71:27017/data_collector_development\"\n",
    "default_collection = \"sensor_values\"\n",
    "pipeline = \"{'$match': {'capability': '\"+capability+\"'}}\"\n",
    "\n",
    "sch = (StructType()\n",
    "    .add(\"nodeID\", LongType())\n",
    "    .add(\"tick\", LongType())\n",
    "    .add(\"uuid\", StringType()))\n",
    "\n",
    "df = (spark\n",
    "    .read\n",
    "    .format(\"com.mongodb.spark.sql.DefaultSource\")\n",
    "    .option(\"spark.mongodb.input.uri\", \"{0}.{1}\".format(default_uri, default_collection))\n",
    "    .option(\"pipeline\", pipeline)\n",
    "    .schema(sch)\n",
    "    .load())\n",
    "\n",
    "df.createOrReplaceGlobalTempView(\"rawspark\")"
   ]
  },
  {
   "cell_type": "code",
   "execution_count": 7,
   "metadata": {},
   "outputs": [
    {
     "data": {
      "text/plain": [
       "DataFrame[nodeID: bigint, tick: bigint, uuid: string]"
      ]
     },
     "execution_count": 7,
     "metadata": {},
     "output_type": "execute_result"
    }
   ],
   "source": [
    "spark.sql(\"select * from global_temp.rawspark\")"
   ]
  },
  {
   "cell_type": "code",
   "execution_count": 86,
   "metadata": {},
   "outputs": [],
   "source": [
    "queries = [\n",
    "    \"\"\"\n",
    "        create or replace temporary view q1 as\n",
    "            select\n",
    "                lead(tick, 1) over (partition by uuid order by tick) as T1,\n",
    "                tick as T0,\n",
    "                lead(nodeID, 1) over (partition by uuid order by tick) as V,\n",
    "                nodeID as U\n",
    "            from global_temp.rawspark\n",
    "    \"\"\",\n",
    "    \"\"\"\n",
    "        create or replace temporary view q2 as\n",
    "            select\n",
    "                timestamp(T0) as TWindow,\n",
    "                T1,\n",
    "                T0,\n",
    "                U,\n",
    "                V\n",
    "            from q1\n",
    "    \"\"\",\n",
    "    \"\"\"\n",
    "        create or replace temporary view q3 as\n",
    "            select\n",
    "                hour(TWindow) as H,\n",
    "                minute(TWindow) as M,\n",
    "                T1, T0, U, V, TWindow\n",
    "            from q2 \n",
    "    \"\"\",\n",
    "    \"\"\"\n",
    "        create or replace temporary view q4 as\n",
    "            select\n",
    "                CAST((M / 20)*20 AS INT) as M,\n",
    "                H,\n",
    "                U,\n",
    "                V,\n",
    "                (T1 - T0) as delta\n",
    "            from q3\n",
    "    \"\"\",\n",
    "    \"\"\"\n",
    "        select \n",
    "            mean(delta) as meanT,\n",
    "            stddev_pop(delta) as stddevT,\n",
    "            U,\n",
    "            V,\n",
    "            H,\n",
    "            M\n",
    "        from q4\n",
    "            group by U, V, H, M\n",
    "    \"\"\"\n",
    "]\n",
    "\n",
    "dataframe = [None]\n",
    "for q in queries:\n",
    "    dataframe[0] = spark.sql(q)"
   ]
  },
  {
   "cell_type": "code",
   "execution_count": 88,
   "metadata": {},
   "outputs": [
    {
     "data": {
      "text/plain": [
       "DataFrame[meanT: double, stddevT: double, U: bigint, V: bigint, H: int, M: int]"
      ]
     },
     "execution_count": 88,
     "metadata": {},
     "output_type": "execute_result"
    }
   ],
   "source": [
    "dataframe[0]"
   ]
  },
  {
   "cell_type": "code",
   "execution_count": 90,
   "metadata": {},
   "outputs": [],
   "source": [
    "(dataframe[0]\n",
    "    .write\n",
    "    .format(\"parquet\")\n",
    "    .mode(\"overwrite\")\n",
    "    .save(\"/tmp/dataprocessor-report/analysis2.parquet\"))"
   ]
  },
  {
   "cell_type": "code",
   "execution_count": 96,
   "metadata": {},
   "outputs": [],
   "source": [
    "# sch = StructType()\n",
    "# sch.add(\"meanT\", DoubleType())\n",
    "# sch.add(\"stddevT\", DoubleType())\n",
    "# sch.add(\"U\", StringType())\n",
    "# sch.add(\"V\", StringType())\n",
    "# sch.add(\"H\", LongType())\n",
    "# sch.add(\"M\", LongType())\n",
    "\n",
    "# df = spark.read.format(\"parquet\").schema(sch).load(\"/tmp/dataprocessor-report/step2.parquet\")"
   ]
  },
  {
   "cell_type": "code",
   "execution_count": 105,
   "metadata": {},
   "outputs": [],
   "source": [
    "# df.createOrReplaceGlobalTempView(\"mymodel\")"
   ]
  },
  {
   "cell_type": "code",
   "execution_count": null,
   "metadata": {},
   "outputs": [],
   "source": []
  }
 ],
 "metadata": {
  "kernelspec": {
   "display_name": "Python 3",
   "language": "python",
   "name": "python3"
  },
  "language_info": {
   "codemirror_mode": {
    "name": "ipython",
    "version": 3
   },
   "file_extension": ".py",
   "mimetype": "text/x-python",
   "name": "python",
   "nbconvert_exporter": "python",
   "pygments_lexer": "ipython3",
   "version": "3.5.2"
  }
 },
 "nbformat": 4,
 "nbformat_minor": 2
}
